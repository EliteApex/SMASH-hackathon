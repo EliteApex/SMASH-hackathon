{
 "cells": [
  {
   "cell_type": "markdown",
   "id": "aafef0d9-5508-4b92-87be-21e536ae7150",
   "metadata": {},
   "source": [
    "# Energy, Peak Frequency, "
   ]
  },
  {
   "cell_type": "code",
   "execution_count": 163,
   "id": "8429b15b-2df4-45d0-9775-182b93a87dc3",
   "metadata": {},
   "outputs": [],
   "source": [
    "from scipy.signal import spectrogram, welch\n",
    "\n",
    "import numpy as np\n",
    "import matplotlib.pyplot as plt\n",
    "import scipy as sp\n",
    "import pandas as pd\n",
    "from scipy.signal import find_peaks\n",
    "from sklearn.model_selection import train_test_split\n",
    "import statsmodels.api as sm"
   ]
  },
  {
   "cell_type": "code",
   "execution_count": 2,
   "id": "8ce0e237-1dc4-4243-81c4-7645aacdaeef",
   "metadata": {},
   "outputs": [],
   "source": [
    "background = np.load(\"../data/background.npz\")['data']\n",
    "bbh = np.load(\"../data/bbh_for_challenge.npy\")\n",
    "sglf = np.load(\"../data/sglf_for_challenge.npy\")"
   ]
  },
  {
   "cell_type": "code",
   "execution_count": 3,
   "id": "86a87ec5-7652-477f-9d5d-d63f869d631c",
   "metadata": {},
   "outputs": [
    {
     "data": {
      "text/plain": [
       "(20000,)"
      ]
     },
     "execution_count": 3,
     "metadata": {},
     "output_type": "execute_result"
    }
   ],
   "source": [
    "multi_seg_back_0 = np.array([])\n",
    "for i in range(100):\n",
    "    multi_seg_back_0 = np.concatenate((multi_seg_back_0, background[i][0]), axis=0)\n",
    "multi_seg_back_0.shape"
   ]
  },
  {
   "cell_type": "code",
   "execution_count": 4,
   "id": "7f160127-d215-4749-ae0e-b323c4ca0eaf",
   "metadata": {},
   "outputs": [
    {
     "data": {
      "text/plain": [
       "(20000,)"
      ]
     },
     "execution_count": 4,
     "metadata": {},
     "output_type": "execute_result"
    }
   ],
   "source": [
    "multi_seg_bbh_0 = np.array([])\n",
    "for i in range(100):\n",
    "    multi_seg_bbh_0 = np.concatenate((multi_seg_bbh_0, bbh[i][0]), axis=0)\n",
    "multi_seg_bbh_0.shape"
   ]
  },
  {
   "cell_type": "code",
   "execution_count": 5,
   "id": "f052dfd0-72ce-494e-a450-c4081f4eac9d",
   "metadata": {},
   "outputs": [
    {
     "data": {
      "text/plain": [
       "(20000,)"
      ]
     },
     "execution_count": 5,
     "metadata": {},
     "output_type": "execute_result"
    }
   ],
   "source": [
    "multi_seg_sglf_0 = np.array([])\n",
    "for i in range(100):\n",
    "    multi_seg_sglf_0 = np.concatenate((multi_seg_sglf_0, sglf[i][0]), axis=0)\n",
    "multi_seg_sglf_0.shape"
   ]
  },
  {
   "cell_type": "code",
   "execution_count": 6,
   "id": "5befa6ed-5e42-4675-8aef-658d3a32fc93",
   "metadata": {},
   "outputs": [],
   "source": [
    "# f, t, Sxx = spectrogram(multi_seg_back_0, fs=4096)\n",
    "# plt.pcolormesh(t, f, Sxx, shading='gouraud')\n",
    "# plt.ylabel('Frequency [Hz]')\n",
    "# plt.xlabel('Time [sec]');"
   ]
  },
  {
   "cell_type": "code",
   "execution_count": 7,
   "id": "26ab2adc-8f15-4202-ac18-951264d3eed6",
   "metadata": {},
   "outputs": [],
   "source": [
    "def total_energy(signal):\n",
    "    total_energy = np.sum(signal ** 2)\n",
    "    return total_energy\n",
    "    "
   ]
  },
  {
   "cell_type": "code",
   "execution_count": 8,
   "id": "2b3e6ccd-4bf0-44b3-ac63-cde259b3f71b",
   "metadata": {},
   "outputs": [],
   "source": [
    "def num_zero_crosses(signal):\n",
    "    num_cross = 0\n",
    "    init = signal[0]\n",
    "    for curr in signal[1:]:\n",
    "        if (init > 0 and curr < 0) or (init < 0 and curr > 0):\n",
    "            num_cross += 1\n",
    "        init = curr\n",
    "    return num_cross"
   ]
  },
  {
   "cell_type": "code",
   "execution_count": 9,
   "id": "5118093b-df66-4d0f-8a60-d84c313b0f19",
   "metadata": {},
   "outputs": [
    {
     "data": {
      "text/plain": [
       "9245.393245191275"
      ]
     },
     "execution_count": 9,
     "metadata": {},
     "output_type": "execute_result"
    }
   ],
   "source": [
    "total_energy(multi_seg_back_0)"
   ]
  },
  {
   "cell_type": "code",
   "execution_count": 10,
   "id": "41385810-68c4-4f2a-ac80-0c0681d89785",
   "metadata": {},
   "outputs": [
    {
     "data": {
      "text/plain": [
       "9141.54006506142"
      ]
     },
     "execution_count": 10,
     "metadata": {},
     "output_type": "execute_result"
    }
   ],
   "source": [
    "total_energy(multi_seg_bbh_0)"
   ]
  },
  {
   "cell_type": "code",
   "execution_count": 11,
   "id": "19780861-7419-4591-b162-77c183683698",
   "metadata": {},
   "outputs": [
    {
     "data": {
      "text/plain": [
       "12652.15235132306"
      ]
     },
     "execution_count": 11,
     "metadata": {},
     "output_type": "execute_result"
    }
   ],
   "source": [
    "total_energy(multi_seg_sglf_0)"
   ]
  },
  {
   "cell_type": "code",
   "execution_count": 12,
   "id": "29bbb3fe-3e04-4130-8d4f-78ae3367a360",
   "metadata": {},
   "outputs": [],
   "source": [
    "back_power = np.apply_along_axis(total_energy, 1, np.reshape(multi_seg_back_0, (200, -1)))"
   ]
  },
  {
   "cell_type": "code",
   "execution_count": 13,
   "id": "2c906acb-cedc-4fff-8a91-c66916617e78",
   "metadata": {},
   "outputs": [],
   "source": [
    "bbh_power = np.apply_along_axis(total_energy, 1, np.reshape(multi_seg_bbh_0, (200, -1)))"
   ]
  },
  {
   "cell_type": "code",
   "execution_count": 14,
   "id": "3d18d6ee-3d8e-46c5-ab1e-92b4c02e8b03",
   "metadata": {},
   "outputs": [],
   "source": [
    "sglf_power = np.apply_along_axis(total_energy, 1, np.reshape(multi_seg_sglf_0, (200, -1)))"
   ]
  },
  {
   "cell_type": "code",
   "execution_count": 15,
   "id": "2bc3efc5-86ac-4727-bcfe-40eb8cfa31df",
   "metadata": {},
   "outputs": [
    {
     "data": {
      "text/plain": [
       "(array([ 7., 12., 34., 23., 31., 22., 11.,  9.,  9.,  3.,  4.,  4.,  2.,\n",
       "         5.,  8.,  6.,  6.,  1.,  2.,  1.]),\n",
       " array([ 25.59001511,  31.58682188,  37.58362865,  43.58043541,\n",
       "         49.57724218,  55.57404895,  61.57085572,  67.56766249,\n",
       "         73.56446925,  79.56127602,  85.55808279,  91.55488956,\n",
       "         97.55169633, 103.54850309, 109.54530986, 115.54211663,\n",
       "        121.5389234 , 127.53573016, 133.53253693, 139.5293437 ,\n",
       "        145.52615047]),\n",
       " <BarContainer object of 20 artists>)"
      ]
     },
     "execution_count": 15,
     "metadata": {},
     "output_type": "execute_result"
    },
    {
     "data": {
      "image/png": "[encoded data removed]",
      "text/plain": [
       "<Figure size 640x480 with 1 Axes>"
      ]
     },
     "metadata": {},
     "output_type": "display_data"
    }
   ],
   "source": [
    "plt.hist(back_power, bins=20, alpha=0.5)\n",
    "plt.hist(bbh_power, bins=20, alpha=0.5)\n",
    "plt.hist(sglf_power, bins=20, alpha=0.5)"
   ]
  },
  {
   "cell_type": "code",
   "execution_count": 16,
   "id": "b87f8fe6-7ce4-423c-8e11-497f09c34ee2",
   "metadata": {},
   "outputs": [],
   "source": [
    "back_crosses = np.apply_along_axis(num_zero_crosses, 1, np.reshape(multi_seg_back_0, (200, -1)))\n",
    "bbh_crosses = np.apply_along_axis(num_zero_crosses, 1, np.reshape(multi_seg_bbh_0, (200, -1)))\n",
    "sglf_crosses = np.apply_along_axis(num_zero_crosses, 1, np.reshape(multi_seg_sglf_0, (200, -1)))"
   ]
  },
  {
   "cell_type": "code",
   "execution_count": 17,
   "id": "36931cb2-5cdd-4731-b4cb-a3a3f2a9bf16",
   "metadata": {},
   "outputs": [
    {
     "data": {
      "text/plain": [
       "(array([ 3.,  9.,  6., 14., 11., 19., 14.,  5., 30.,  8., 23., 25.,  6.,\n",
       "         9.,  6.,  3.,  6.,  2.,  0.,  1.]),\n",
       " array([21. , 22.6, 24.2, 25.8, 27.4, 29. , 30.6, 32.2, 33.8, 35.4, 37. ,\n",
       "        38.6, 40.2, 41.8, 43.4, 45. , 46.6, 48.2, 49.8, 51.4, 53. ]),\n",
       " <BarContainer object of 20 artists>)"
      ]
     },
     "execution_count": 17,
     "metadata": {},
     "output_type": "execute_result"
    },
    {
     "data": {
      "image/png": "[encoded data removed]",
      "text/plain": [
       "<Figure size 640x480 with 1 Axes>"
      ]
     },
     "metadata": {},
     "output_type": "display_data"
    }
   ],
   "source": [
    "plt.hist(back_crosses, bins=20, alpha=0.5)\n",
    "plt.hist(bbh_crosses, bins=20, alpha=0.5)\n",
    "plt.hist(sglf_crosses, bins=20, alpha=0.5)"
   ]
  },
  {
   "cell_type": "code",
   "execution_count": 18,
   "id": "52493373-9d9a-4f63-86d2-9c0dcd9dd607",
   "metadata": {},
   "outputs": [
    {
     "data": {
      "image/png": "[encoded data removed]",
      "text/plain": [
       "<Figure size 640x480 with 1 Axes>"
      ]
     },
     "metadata": {},
     "output_type": "display_data"
    }
   ],
   "source": [
    "plt.psd(multi_seg_back_0, Fs=4096);"
   ]
  },
  {
   "cell_type": "code",
   "execution_count": 19,
   "id": "5fb9a582-a2b2-4e27-a603-5bf40f301731",
   "metadata": {},
   "outputs": [
    {
     "data": {
      "image/png": "[encoded data removed]",
      "text/plain": [
       "<Figure size 640x480 with 1 Axes>"
      ]
     },
     "metadata": {},
     "output_type": "display_data"
    }
   ],
   "source": [
    "plt.psd(multi_seg_bbh_0, Fs=4096);"
   ]
  },
  {
   "cell_type": "code",
   "execution_count": 20,
   "id": "0dfbf7b9-378f-4528-8306-60d71dfc82fa",
   "metadata": {},
   "outputs": [
    {
     "data": {
      "image/png": "[encoded data removed]",
      "text/plain": [
       "<Figure size 640x480 with 1 Axes>"
      ]
     },
     "metadata": {},
     "output_type": "display_data"
    }
   ],
   "source": [
    "plt.psd(multi_seg_sglf_0, Fs=4096);"
   ]
  },
  {
   "cell_type": "code",
   "execution_count": 21,
   "id": "bf035046-d52e-403c-9655-b5460a9a0fc6",
   "metadata": {},
   "outputs": [],
   "source": [
    "def extract_peak_frequency(data, sampling_rate=4096):\n",
    "    fft_data = np.fft.fft(data)\n",
    "    freqs = np.fft.fftfreq(len(data))\n",
    "    \n",
    "    peak_coefficient = np.argmax(np.abs(fft_data))\n",
    "    peak_freq = freqs[peak_coefficient]\n",
    "    \n",
    "    return abs(peak_freq * sampling_rate)"
   ]
  },
  {
   "cell_type": "code",
   "execution_count": 26,
   "id": "8bb112da-956e-4926-9b54-436e487e7dcf",
   "metadata": {},
   "outputs": [
    {
     "data": {
      "text/plain": [
       "(200, 100)"
      ]
     },
     "execution_count": 26,
     "metadata": {},
     "output_type": "execute_result"
    }
   ],
   "source": [
    "np.reshape(multi_seg_sglf_0, (200, -1)).shape"
   ]
  },
  {
   "cell_type": "code",
   "execution_count": 23,
   "id": "0c76a3cb-e41e-4c99-a504-1181ca1bdfb4",
   "metadata": {},
   "outputs": [],
   "source": [
    "back_peak_freq = np.apply_along_axis(extract_peak_frequency, 1, np.reshape(multi_seg_back_0, (50, -1)))\n",
    "bbh_peak_freq = np.apply_along_axis(extract_peak_frequency, 1, np.reshape(multi_seg_bbh_0, (50, -1)))\n",
    "sglf_peak_freq = np.apply_along_axis(extract_peak_frequency, 1, np.reshape(multi_seg_sglf_0, (50, -1)))"
   ]
  },
  {
   "cell_type": "code",
   "execution_count": 29,
   "id": "9d6d3a6a-ead0-4e4c-adeb-464387d353c6",
   "metadata": {},
   "outputs": [
    {
     "data": {
      "image/png": "[encoded data removed]",
      "text/plain": [
       "<Figure size 640x480 with 1 Axes>"
      ]
     },
     "metadata": {},
     "output_type": "display_data"
    }
   ],
   "source": [
    "plt.hist(back_peak_freq, alpha=0.5, bins=12);"
   ]
  },
  {
   "cell_type": "code",
   "execution_count": 30,
   "id": "0b258815-9512-46c0-9008-8b6bff9e810d",
   "metadata": {},
   "outputs": [
    {
     "data": {
      "image/png": "[encoded data removed]",
      "text/plain": [
       "<Figure size 640x480 with 1 Axes>"
      ]
     },
     "metadata": {},
     "output_type": "display_data"
    }
   ],
   "source": [
    "plt.hist(bbh_peak_freq, alpha=0.5, bins=12);\n"
   ]
  },
  {
   "cell_type": "code",
   "execution_count": 28,
   "id": "f97cdad9-5fb5-4a19-9fb5-1130c34dbc3d",
   "metadata": {},
   "outputs": [
    {
     "data": {
      "image/png": "[encoded data removed]",
      "text/plain": [
       "<Figure size 640x480 with 1 Axes>"
      ]
     },
     "metadata": {},
     "output_type": "display_data"
    }
   ],
   "source": [
    "plt.hist(sglf_peak_freq, alpha=0.5, bins=12);"
   ]
  },
  {
   "cell_type": "markdown",
   "id": "d52070c3-f47e-4a02-a24f-5ddf409d0827",
   "metadata": {},
   "source": [
    "Kurtosis is not useful here"
   ]
  },
  {
   "cell_type": "code",
   "execution_count": 35,
   "id": "4a21d6da-7aa5-4f19-a959-267f40998ad2",
   "metadata": {},
   "outputs": [
    {
     "data": {
      "text/plain": [
       "-0.006529810989658991"
      ]
     },
     "execution_count": 35,
     "metadata": {},
     "output_type": "execute_result"
    }
   ],
   "source": [
    "back_kurtosis = pd.Series(multi_seg_back_0).kurtosis()\n",
    "back_kurtosis"
   ]
  },
  {
   "cell_type": "code",
   "execution_count": 36,
   "id": "fa8fe4fa-2f60-4fa4-95a3-ba49a03fdf0b",
   "metadata": {},
   "outputs": [
    {
     "data": {
      "text/plain": [
       "-0.0621350816424866"
      ]
     },
     "execution_count": 36,
     "metadata": {},
     "output_type": "execute_result"
    }
   ],
   "source": [
    "bbh_kurtosis = pd.Series(multi_seg_bbh_0).kurtosis()\n",
    "bbh_kurtosis"
   ]
  },
  {
   "cell_type": "markdown",
   "id": "e1cc654c-f7cd-4429-9f08-8242cab6a164",
   "metadata": {},
   "source": [
    "**PSD** is useful here when used with welch"
   ]
  },
  {
   "cell_type": "code",
   "execution_count": 48,
   "id": "0c989d39-2ad7-4ade-bf63-39cab6284056",
   "metadata": {},
   "outputs": [
    {
     "data": {
      "text/plain": [
       "[<matplotlib.lines.Line2D at 0x7ff8e90af4d0>]"
      ]
     },
     "execution_count": 48,
     "metadata": {},
     "output_type": "execute_result"
    },
    {
     "data": {
      "image/png": "[encoded data removed]",
      "text/plain": [
       "<Figure size 640x480 with 1 Axes>"
      ]
     },
     "metadata": {},
     "output_type": "display_data"
    }
   ],
   "source": [
    "frequencies, psd = welch(multi_seg_back_0, fs=4096)\n",
    "plt.plot(frequencies, psd)"
   ]
  },
  {
   "cell_type": "code",
   "execution_count": 105,
   "id": "4804fc50-752a-4b22-85c7-c70358ded5df",
   "metadata": {},
   "outputs": [
    {
     "data": {
      "text/plain": [
       "(array([   0.  ,   20.48,   40.96,   61.44,   81.92,  102.4 ,  122.88,\n",
       "         143.36,  163.84,  184.32,  204.8 ,  225.28,  245.76,  266.24,\n",
       "         286.72,  307.2 ,  327.68,  348.16,  368.64,  389.12,  409.6 ,\n",
       "         430.08,  450.56,  471.04,  491.52,  512.  ,  532.48,  552.96,\n",
       "         573.44,  593.92,  614.4 ,  634.88,  655.36,  675.84,  696.32,\n",
       "         716.8 ,  737.28,  757.76,  778.24,  798.72,  819.2 ,  839.68,\n",
       "         860.16,  880.64,  901.12,  921.6 ,  942.08,  962.56,  983.04,\n",
       "        1003.52, 1024.  , 1044.48, 1064.96, 1085.44, 1105.92, 1126.4 ,\n",
       "        1146.88, 1167.36, 1187.84, 1208.32, 1228.8 , 1249.28, 1269.76,\n",
       "        1290.24, 1310.72, 1331.2 , 1351.68, 1372.16, 1392.64, 1413.12,\n",
       "        1433.6 , 1454.08, 1474.56, 1495.04, 1515.52, 1536.  , 1556.48,\n",
       "        1576.96, 1597.44, 1617.92, 1638.4 , 1658.88, 1679.36, 1699.84,\n",
       "        1720.32, 1740.8 , 1761.28, 1781.76, 1802.24, 1822.72, 1843.2 ,\n",
       "        1863.68, 1884.16, 1904.64, 1925.12, 1945.6 , 1966.08, 1986.56,\n",
       "        2007.04, 2027.52, 2048.  ]),\n",
       " array([4.08167814e-07, 6.17575140e-05, 2.74769669e-04, 1.30352211e-04,\n",
       "        6.95897621e-05, 2.77620896e-04, 1.54875256e-04, 1.94798485e-04,\n",
       "        6.59590642e-04, 2.27594425e-04, 9.88589575e-05, 4.05338352e-04,\n",
       "        4.02032607e-04, 2.63061359e-04, 1.17045144e-04, 4.63822253e-04,\n",
       "        5.96654968e-04, 8.21048427e-05, 6.74207777e-06, 6.48219436e-05,\n",
       "        2.80312238e-04, 1.17098785e-04, 1.76139954e-04, 7.79941724e-04,\n",
       "        7.54107495e-04, 1.23513198e-04, 6.06858941e-04, 3.33031058e-04,\n",
       "        2.17258349e-04, 5.84406457e-04, 2.54993015e-04, 2.80869939e-07,\n",
       "        4.07712729e-05, 2.70812380e-05, 2.72247909e-04, 1.18233252e-04,\n",
       "        4.58704843e-05, 1.30837457e-04, 4.85307929e-04, 1.57064612e-04,\n",
       "        2.37528227e-05, 2.73710056e-04, 1.98480063e-04, 2.00173641e-06,\n",
       "        1.53223681e-04, 1.10647230e-04, 3.35274031e-04, 2.25555513e-04,\n",
       "        3.81201404e-04, 4.70073752e-05, 2.64972282e-04, 1.08850756e-04,\n",
       "        4.03540281e-05, 1.07463485e-04, 1.58633330e-04, 7.84194165e-04,\n",
       "        2.23889544e-03, 1.78547775e-03, 1.98651132e-03, 1.79566774e-03,\n",
       "        3.11918238e-04, 3.70409084e-04, 1.16093710e-03, 8.60089151e-04,\n",
       "        3.35818838e-04, 2.19178610e-04, 3.12326405e-04, 2.17781809e-04,\n",
       "        3.44023231e-04, 4.06830847e-05, 3.49904928e-05, 1.16999666e-04,\n",
       "        6.32844000e-05, 1.10315978e-04, 4.99698232e-05, 8.68357234e-06,\n",
       "        1.25175779e-06, 8.67522047e-08, 4.02530864e-08, 3.26864454e-09,\n",
       "        1.89703846e-09, 1.24030301e-11, 8.86817102e-11, 5.51369615e-12,\n",
       "        1.40284731e-11, 3.63547270e-12, 2.27910672e-12, 1.12038482e-12,\n",
       "        7.48123622e-13, 5.83247054e-13, 3.89389110e-13, 2.80621289e-13,\n",
       "        2.04348877e-13, 1.54094031e-13, 1.18028530e-13, 9.30144274e-14,\n",
       "        7.55628534e-14, 6.36337152e-14, 5.59027733e-14, 5.15574000e-14,\n",
       "        2.50778150e-14]))"
      ]
     },
     "execution_count": 105,
     "metadata": {},
     "output_type": "execute_result"
    }
   ],
   "source": [
    "welch(background[0][0], fs=4096)"
   ]
  },
  {
   "cell_type": "code",
   "execution_count": 106,
   "id": "f8c27435-8f35-4022-8888-b59b26698475",
   "metadata": {},
   "outputs": [],
   "source": [
    "frequencies, psd = welch(multi_seg_bbh_0, fs=4096)"
   ]
  },
  {
   "cell_type": "markdown",
   "id": "a8bde78f-1363-4d1b-9f23-5c909cad8123",
   "metadata": {},
   "source": [
    "Cross correlation could be good"
   ]
  },
  {
   "cell_type": "code",
   "execution_count": 107,
   "id": "dfc23f9a-a283-4ed7-b34d-d7f2c5e4288c",
   "metadata": {},
   "outputs": [],
   "source": [
    "def cross_corr(channel_1, channel_2):\n",
    "    cross_corr = np.correlate(channel_1, channel_2, mode='full')\n",
    "    lag = np.argmax(cross_corr) - len(channel_1) + 1\n",
    "    return lag"
   ]
  },
  {
   "cell_type": "code",
   "execution_count": 108,
   "id": "0199ee9a-c1c5-4063-ae28-11c74d4c0f67",
   "metadata": {},
   "outputs": [
    {
     "data": {
      "image/png": "[encoded data removed]",
      "text/plain": [
       "<Figure size 640x480 with 1 Axes>"
      ]
     },
     "metadata": {},
     "output_type": "display_data"
    }
   ],
   "source": [
    "back_cross_corr = []\n",
    "for i in range(100):\n",
    "    corr = cross_corr(background[i][0], background[i][1])\n",
    "    back_cross_corr.append(corr)\n",
    "plt.hist(back_cross_corr);"
   ]
  },
  {
   "cell_type": "code",
   "execution_count": 71,
   "id": "76232c46-c4b6-48e5-baa2-bc9590762500",
   "metadata": {},
   "outputs": [
    {
     "data": {
      "image/png": "[encoded data removed]",
      "text/plain": [
       "<Figure size 640x480 with 1 Axes>"
      ]
     },
     "metadata": {},
     "output_type": "display_data"
    }
   ],
   "source": [
    "bbh_cross_corr = []\n",
    "for i in range(100):\n",
    "    corr = cross_corr(bbh[i][0], bbh[i][1])\n",
    "    bbh_cross_corr.append(corr)\n",
    "plt.hist(bbh_cross_corr);"
   ]
  },
  {
   "cell_type": "code",
   "execution_count": 72,
   "id": "beb1f7cd-06a6-4636-bbbb-c9cf2e503f1b",
   "metadata": {},
   "outputs": [
    {
     "data": {
      "image/png": "[encoded data removed]",
      "text/plain": [
       "<Figure size 640x480 with 1 Axes>"
      ]
     },
     "metadata": {},
     "output_type": "display_data"
    }
   ],
   "source": [
    "sglf_cross_corr = []\n",
    "for i in range(100):\n",
    "    corr = cross_corr(sglf[i][0], sglf[i][1])\n",
    "    sglf_cross_corr.append(corr)\n",
    "plt.hist(sglf_cross_corr);"
   ]
  },
  {
   "cell_type": "code",
   "execution_count": 85,
   "id": "43f3481f-bc41-469f-90a7-38dc328504fa",
   "metadata": {},
   "outputs": [
    {
     "data": {
      "image/png": "[encoded data removed]",
      "text/plain": [
       "<Figure size 640x480 with 1 Axes>"
      ]
     },
     "metadata": {},
     "output_type": "display_data"
    }
   ],
   "source": [
    "bins = np.linspace(-150, 150, 50)\n",
    "plt.hist(back_cross_corr, bins, alpha=0.5, label='back')\n",
    "plt.hist(bbh_cross_corr, bins, alpha=0.5, label='bbh')\n",
    "plt.hist(sglf_cross_corr, bins, alpha=0.5, label='sglf');"
   ]
  },
  {
   "cell_type": "code",
   "execution_count": 79,
   "id": "8aa53cce-c583-46bb-b93a-8c0d410a707c",
   "metadata": {},
   "outputs": [
    {
     "data": {
      "text/plain": [
       "array([150])"
      ]
     },
     "execution_count": 79,
     "metadata": {},
     "output_type": "execute_result"
    }
   ],
   "source": [
    "peaks, _ = find_peaks(background[0][0], height=1.5)\n",
    "peaks"
   ]
  },
  {
   "cell_type": "code",
   "execution_count": 86,
   "id": "4d970ef5-2d6e-41d8-8f83-5fd8b01df1cc",
   "metadata": {},
   "outputs": [],
   "source": [
    "# im going to go segment by segment and see which features are the most important"
   ]
  },
  {
   "cell_type": "code",
   "execution_count": 89,
   "id": "af5c20f9-72ce-491e-93b0-17e98bda58ce",
   "metadata": {},
   "outputs": [
    {
     "data": {
      "text/plain": [
       "(100000, 2, 200)"
      ]
     },
     "execution_count": 89,
     "metadata": {},
     "output_type": "execute_result"
    }
   ],
   "source": [
    "background.shape"
   ]
  },
  {
   "cell_type": "code",
   "execution_count": 154,
   "id": "00f094a5-e6d6-4a28-ae4f-182061c2ff66",
   "metadata": {},
   "outputs": [],
   "source": [
    "back_df = pd.DataFrame(np.apply_along_axis(total_energy, 2, background))\n",
    "back_df_2 = pd.DataFrame(np.apply_along_axis(extract_peak_frequency, 2, background))"
   ]
  },
  {
   "cell_type": "code",
   "execution_count": 155,
   "id": "2abcca1b-1528-4487-8d4a-cdfb1294e419",
   "metadata": {},
   "outputs": [],
   "source": [
    "back_cross_corr = []\n",
    "for i in range(len(background)):\n",
    "    corr = cross_corr(background[i][0], background[i][1])\n",
    "    back_cross_corr.append(corr)\n",
    "back_cross_corr = pd.Series(back_cross_corr)"
   ]
  },
  {
   "cell_type": "code",
   "execution_count": 156,
   "id": "68420bce-b095-4dbd-ac11-a3e6240cd438",
   "metadata": {},
   "outputs": [],
   "source": [
    "back_df = pd.concat([back_df, back_df_2, back_cross_corr], axis=1)"
   ]
  },
  {
   "cell_type": "code",
   "execution_count": 157,
   "id": "4504b807-3550-44ed-a6c5-82540639c45c",
   "metadata": {},
   "outputs": [],
   "source": [
    "back_df.columns = [\"power_fc\", \"power_sc\", \"peak_freq_fc\", \"peak_freq_sc\", \"cross_corr\"]"
   ]
  },
  {
   "cell_type": "code",
   "execution_count": 158,
   "id": "20c10a24-8aba-41e7-b14c-11fd73a3b347",
   "metadata": {},
   "outputs": [
    {
     "data": {
      "text/html": [
       "<div>\n",
       "<style scoped>\n",
       "    .dataframe tbody tr th:only-of-type {\n",
       "        vertical-align: middle;\n",
       "    }\n",
       "\n",
       "    .dataframe tbody tr th {\n",
       "        vertical-align: top;\n",
       "    }\n",
       "\n",
       "    .dataframe thead th {\n",
       "        text-align: right;\n",
       "    }\n",
       "</style>\n",
       "<table border=\"1\" class=\"dataframe\">\n",
       "  <thead>\n",
       "    <tr style=\"text-align: right;\">\n",
       "      <th></th>\n",
       "      <th>power_fc</th>\n",
       "      <th>power_sc</th>\n",
       "      <th>peak_freq_fc</th>\n",
       "      <th>peak_freq_sc</th>\n",
       "      <th>cross_corr</th>\n",
       "      <th>label</th>\n",
       "    </tr>\n",
       "  </thead>\n",
       "  <tbody>\n",
       "    <tr>\n",
       "      <th>0</th>\n",
       "      <td>104.089036</td>\n",
       "      <td>86.758556</td>\n",
       "      <td>1146.88</td>\n",
       "      <td>634.88</td>\n",
       "      <td>50</td>\n",
       "      <td>0</td>\n",
       "    </tr>\n",
       "    <tr>\n",
       "      <th>1</th>\n",
       "      <td>94.278428</td>\n",
       "      <td>87.887142</td>\n",
       "      <td>307.20</td>\n",
       "      <td>389.12</td>\n",
       "      <td>46</td>\n",
       "      <td>0</td>\n",
       "    </tr>\n",
       "    <tr>\n",
       "      <th>2</th>\n",
       "      <td>67.322822</td>\n",
       "      <td>77.246988</td>\n",
       "      <td>737.28</td>\n",
       "      <td>430.08</td>\n",
       "      <td>-34</td>\n",
       "      <td>0</td>\n",
       "    </tr>\n",
       "    <tr>\n",
       "      <th>3</th>\n",
       "      <td>79.127303</td>\n",
       "      <td>91.651794</td>\n",
       "      <td>286.72</td>\n",
       "      <td>1249.28</td>\n",
       "      <td>-9</td>\n",
       "      <td>0</td>\n",
       "    </tr>\n",
       "    <tr>\n",
       "      <th>4</th>\n",
       "      <td>82.177180</td>\n",
       "      <td>92.165586</td>\n",
       "      <td>348.16</td>\n",
       "      <td>471.04</td>\n",
       "      <td>-59</td>\n",
       "      <td>0</td>\n",
       "    </tr>\n",
       "  </tbody>\n",
       "</table>\n",
       "</div>"
      ],
      "text/plain": [
       "     power_fc   power_sc  peak_freq_fc  peak_freq_sc  cross_corr  label\n",
       "0  104.089036  86.758556       1146.88        634.88          50      0\n",
       "1   94.278428  87.887142        307.20        389.12          46      0\n",
       "2   67.322822  77.246988        737.28        430.08         -34      0\n",
       "3   79.127303  91.651794        286.72       1249.28          -9      0\n",
       "4   82.177180  92.165586        348.16        471.04         -59      0"
      ]
     },
     "execution_count": 158,
     "metadata": {},
     "output_type": "execute_result"
    }
   ],
   "source": [
    "back_df['label'] = 0\n",
    "back_df.head()"
   ]
  },
  {
   "cell_type": "code",
   "execution_count": 159,
   "id": "62001f47-2cf9-4d52-8171-6726883249c6",
   "metadata": {},
   "outputs": [
    {
     "data": {
      "text/html": [
       "<div>\n",
       "<style scoped>\n",
       "    .dataframe tbody tr th:only-of-type {\n",
       "        vertical-align: middle;\n",
       "    }\n",
       "\n",
       "    .dataframe tbody tr th {\n",
       "        vertical-align: top;\n",
       "    }\n",
       "\n",
       "    .dataframe thead th {\n",
       "        text-align: right;\n",
       "    }\n",
       "</style>\n",
       "<table border=\"1\" class=\"dataframe\">\n",
       "  <thead>\n",
       "    <tr style=\"text-align: right;\">\n",
       "      <th></th>\n",
       "      <th>power_fc</th>\n",
       "      <th>power_sc</th>\n",
       "      <th>peak_freq_fc</th>\n",
       "      <th>peak_freq_sc</th>\n",
       "      <th>cross_corr</th>\n",
       "      <th>label</th>\n",
       "    </tr>\n",
       "  </thead>\n",
       "  <tbody>\n",
       "    <tr>\n",
       "      <th>0</th>\n",
       "      <td>99.372934</td>\n",
       "      <td>96.684953</td>\n",
       "      <td>61.44</td>\n",
       "      <td>40.96</td>\n",
       "      <td>22</td>\n",
       "      <td>1</td>\n",
       "    </tr>\n",
       "    <tr>\n",
       "      <th>1</th>\n",
       "      <td>93.589439</td>\n",
       "      <td>89.880661</td>\n",
       "      <td>40.96</td>\n",
       "      <td>40.96</td>\n",
       "      <td>-47</td>\n",
       "      <td>1</td>\n",
       "    </tr>\n",
       "    <tr>\n",
       "      <th>2</th>\n",
       "      <td>74.466410</td>\n",
       "      <td>64.426210</td>\n",
       "      <td>40.96</td>\n",
       "      <td>40.96</td>\n",
       "      <td>47</td>\n",
       "      <td>1</td>\n",
       "    </tr>\n",
       "    <tr>\n",
       "      <th>3</th>\n",
       "      <td>105.917097</td>\n",
       "      <td>103.751818</td>\n",
       "      <td>61.44</td>\n",
       "      <td>40.96</td>\n",
       "      <td>22</td>\n",
       "      <td>1</td>\n",
       "    </tr>\n",
       "    <tr>\n",
       "      <th>4</th>\n",
       "      <td>93.564451</td>\n",
       "      <td>89.818175</td>\n",
       "      <td>61.44</td>\n",
       "      <td>40.96</td>\n",
       "      <td>22</td>\n",
       "      <td>1</td>\n",
       "    </tr>\n",
       "    <tr>\n",
       "      <th>...</th>\n",
       "      <td>...</td>\n",
       "      <td>...</td>\n",
       "      <td>...</td>\n",
       "      <td>...</td>\n",
       "      <td>...</td>\n",
       "      <td>...</td>\n",
       "    </tr>\n",
       "    <tr>\n",
       "      <th>99995</th>\n",
       "      <td>110.910084</td>\n",
       "      <td>84.542872</td>\n",
       "      <td>61.44</td>\n",
       "      <td>61.44</td>\n",
       "      <td>40</td>\n",
       "      <td>1</td>\n",
       "    </tr>\n",
       "    <tr>\n",
       "      <th>99996</th>\n",
       "      <td>108.799037</td>\n",
       "      <td>87.078303</td>\n",
       "      <td>61.44</td>\n",
       "      <td>61.44</td>\n",
       "      <td>-20</td>\n",
       "      <td>1</td>\n",
       "    </tr>\n",
       "    <tr>\n",
       "      <th>99997</th>\n",
       "      <td>108.486652</td>\n",
       "      <td>87.983790</td>\n",
       "      <td>61.44</td>\n",
       "      <td>61.44</td>\n",
       "      <td>-20</td>\n",
       "      <td>1</td>\n",
       "    </tr>\n",
       "    <tr>\n",
       "      <th>99998</th>\n",
       "      <td>90.313363</td>\n",
       "      <td>51.581654</td>\n",
       "      <td>1187.84</td>\n",
       "      <td>40.96</td>\n",
       "      <td>65</td>\n",
       "      <td>1</td>\n",
       "    </tr>\n",
       "    <tr>\n",
       "      <th>99999</th>\n",
       "      <td>106.303824</td>\n",
       "      <td>86.913159</td>\n",
       "      <td>61.44</td>\n",
       "      <td>61.44</td>\n",
       "      <td>-21</td>\n",
       "      <td>1</td>\n",
       "    </tr>\n",
       "  </tbody>\n",
       "</table>\n",
       "<p>100000 rows × 6 columns</p>\n",
       "</div>"
      ],
      "text/plain": [
       "         power_fc    power_sc  peak_freq_fc  peak_freq_sc  cross_corr  label\n",
       "0       99.372934   96.684953         61.44         40.96          22      1\n",
       "1       93.589439   89.880661         40.96         40.96         -47      1\n",
       "2       74.466410   64.426210         40.96         40.96          47      1\n",
       "3      105.917097  103.751818         61.44         40.96          22      1\n",
       "4       93.564451   89.818175         61.44         40.96          22      1\n",
       "...           ...         ...           ...           ...         ...    ...\n",
       "99995  110.910084   84.542872         61.44         61.44          40      1\n",
       "99996  108.799037   87.078303         61.44         61.44         -20      1\n",
       "99997  108.486652   87.983790         61.44         61.44         -20      1\n",
       "99998   90.313363   51.581654       1187.84         40.96          65      1\n",
       "99999  106.303824   86.913159         61.44         61.44         -21      1\n",
       "\n",
       "[100000 rows x 6 columns]"
      ]
     },
     "execution_count": 159,
     "metadata": {},
     "output_type": "execute_result"
    }
   ],
   "source": [
    "bbh_1 = pd.DataFrame(np.apply_along_axis(total_energy, 2, bbh))\n",
    "bbh_2 = pd.DataFrame(np.apply_along_axis(extract_peak_frequency, 2, bbh))\n",
    "bbh_cross_corr = []\n",
    "for i in range(len(bbh)):\n",
    "    corr = cross_corr(bbh[i][0], bbh[i][1])\n",
    "    bbh_cross_corr.append(corr)\n",
    "bbh_cross_corr = pd.Series(bbh_cross_corr)\n",
    "bbh_df = pd.concat([bbh_1, bbh_2, bbh_cross_corr], axis=1)\n",
    "bbh_df.columns = [\"power_fc\", \"power_sc\", \"peak_freq_fc\", \"peak_freq_sc\", \"cross_corr\"]\n",
    "bbh_df['label'] = 1\n",
    "bbh_df"
   ]
  },
  {
   "cell_type": "code",
   "execution_count": 160,
   "id": "f55c3e1e-4afd-4bdd-b045-37ab7a296d76",
   "metadata": {},
   "outputs": [
    {
     "data": {
      "text/html": [
       "<div>\n",
       "<style scoped>\n",
       "    .dataframe tbody tr th:only-of-type {\n",
       "        vertical-align: middle;\n",
       "    }\n",
       "\n",
       "    .dataframe tbody tr th {\n",
       "        vertical-align: top;\n",
       "    }\n",
       "\n",
       "    .dataframe thead th {\n",
       "        text-align: right;\n",
       "    }\n",
       "</style>\n",
       "<table border=\"1\" class=\"dataframe\">\n",
       "  <thead>\n",
       "    <tr style=\"text-align: right;\">\n",
       "      <th></th>\n",
       "      <th>power_fc</th>\n",
       "      <th>power_sc</th>\n",
       "      <th>peak_freq_fc</th>\n",
       "      <th>peak_freq_sc</th>\n",
       "      <th>cross_corr</th>\n",
       "      <th>label</th>\n",
       "    </tr>\n",
       "  </thead>\n",
       "  <tbody>\n",
       "    <tr>\n",
       "      <th>0</th>\n",
       "      <td>89.879830</td>\n",
       "      <td>63.356251</td>\n",
       "      <td>102.40</td>\n",
       "      <td>1290.24</td>\n",
       "      <td>-20</td>\n",
       "      <td>2</td>\n",
       "    </tr>\n",
       "    <tr>\n",
       "      <th>1</th>\n",
       "      <td>76.868639</td>\n",
       "      <td>54.877995</td>\n",
       "      <td>122.88</td>\n",
       "      <td>1208.32</td>\n",
       "      <td>-20</td>\n",
       "      <td>2</td>\n",
       "    </tr>\n",
       "    <tr>\n",
       "      <th>2</th>\n",
       "      <td>95.662806</td>\n",
       "      <td>64.571329</td>\n",
       "      <td>122.88</td>\n",
       "      <td>1290.24</td>\n",
       "      <td>15</td>\n",
       "      <td>2</td>\n",
       "    </tr>\n",
       "    <tr>\n",
       "      <th>3</th>\n",
       "      <td>94.061850</td>\n",
       "      <td>62.259344</td>\n",
       "      <td>122.88</td>\n",
       "      <td>122.88</td>\n",
       "      <td>18</td>\n",
       "      <td>2</td>\n",
       "    </tr>\n",
       "    <tr>\n",
       "      <th>4</th>\n",
       "      <td>94.902480</td>\n",
       "      <td>63.412988</td>\n",
       "      <td>1167.36</td>\n",
       "      <td>1290.24</td>\n",
       "      <td>18</td>\n",
       "      <td>2</td>\n",
       "    </tr>\n",
       "    <tr>\n",
       "      <th>...</th>\n",
       "      <td>...</td>\n",
       "      <td>...</td>\n",
       "      <td>...</td>\n",
       "      <td>...</td>\n",
       "      <td>...</td>\n",
       "      <td>...</td>\n",
       "    </tr>\n",
       "    <tr>\n",
       "      <th>99995</th>\n",
       "      <td>86.233608</td>\n",
       "      <td>73.800497</td>\n",
       "      <td>204.80</td>\n",
       "      <td>204.80</td>\n",
       "      <td>8</td>\n",
       "      <td>2</td>\n",
       "    </tr>\n",
       "    <tr>\n",
       "      <th>99996</th>\n",
       "      <td>88.318580</td>\n",
       "      <td>76.557027</td>\n",
       "      <td>204.80</td>\n",
       "      <td>204.80</td>\n",
       "      <td>9</td>\n",
       "      <td>2</td>\n",
       "    </tr>\n",
       "    <tr>\n",
       "      <th>99997</th>\n",
       "      <td>93.403762</td>\n",
       "      <td>73.387035</td>\n",
       "      <td>204.80</td>\n",
       "      <td>204.80</td>\n",
       "      <td>-29</td>\n",
       "      <td>2</td>\n",
       "    </tr>\n",
       "    <tr>\n",
       "      <th>99998</th>\n",
       "      <td>95.095813</td>\n",
       "      <td>73.342789</td>\n",
       "      <td>204.80</td>\n",
       "      <td>204.80</td>\n",
       "      <td>9</td>\n",
       "      <td>2</td>\n",
       "    </tr>\n",
       "    <tr>\n",
       "      <th>99999</th>\n",
       "      <td>98.131486</td>\n",
       "      <td>67.926979</td>\n",
       "      <td>204.80</td>\n",
       "      <td>204.80</td>\n",
       "      <td>50</td>\n",
       "      <td>2</td>\n",
       "    </tr>\n",
       "  </tbody>\n",
       "</table>\n",
       "<p>100000 rows × 6 columns</p>\n",
       "</div>"
      ],
      "text/plain": [
       "        power_fc   power_sc  peak_freq_fc  peak_freq_sc  cross_corr  label\n",
       "0      89.879830  63.356251        102.40       1290.24         -20      2\n",
       "1      76.868639  54.877995        122.88       1208.32         -20      2\n",
       "2      95.662806  64.571329        122.88       1290.24          15      2\n",
       "3      94.061850  62.259344        122.88        122.88          18      2\n",
       "4      94.902480  63.412988       1167.36       1290.24          18      2\n",
       "...          ...        ...           ...           ...         ...    ...\n",
       "99995  86.233608  73.800497        204.80        204.80           8      2\n",
       "99996  88.318580  76.557027        204.80        204.80           9      2\n",
       "99997  93.403762  73.387035        204.80        204.80         -29      2\n",
       "99998  95.095813  73.342789        204.80        204.80           9      2\n",
       "99999  98.131486  67.926979        204.80        204.80          50      2\n",
       "\n",
       "[100000 rows x 6 columns]"
      ]
     },
     "execution_count": 160,
     "metadata": {},
     "output_type": "execute_result"
    }
   ],
   "source": [
    "sglf_1 = pd.DataFrame(np.apply_along_axis(total_energy, 2, sglf))\n",
    "sglf_2 = pd.DataFrame(np.apply_along_axis(extract_peak_frequency, 2, sglf))\n",
    "sglf_cross_corr = []\n",
    "for i in range(len(sglf)):\n",
    "    corr = cross_corr(sglf[i][0], sglf[i][1])\n",
    "    sglf_cross_corr.append(corr)\n",
    "sglf_cross_corr = pd.Series(sglf_cross_corr)\n",
    "sglf_df = pd.concat([sglf_1, sglf_2, sglf_cross_corr], axis=1)\n",
    "sglf_df.columns = [\"power_fc\", \"power_sc\", \"peak_freq_fc\", \"peak_freq_sc\", \"cross_corr\"]\n",
    "sglf_df['label'] = 2\n",
    "sglf_df"
   ]
  },
  {
   "cell_type": "code",
   "execution_count": 161,
   "id": "5722bef4-1251-4f00-aee5-453ed6934abb",
   "metadata": {},
   "outputs": [
    {
     "data": {
      "text/html": [
       "<div>\n",
       "<style scoped>\n",
       "    .dataframe tbody tr th:only-of-type {\n",
       "        vertical-align: middle;\n",
       "    }\n",
       "\n",
       "    .dataframe tbody tr th {\n",
       "        vertical-align: top;\n",
       "    }\n",
       "\n",
       "    .dataframe thead th {\n",
       "        text-align: right;\n",
       "    }\n",
       "</style>\n",
       "<table border=\"1\" class=\"dataframe\">\n",
       "  <thead>\n",
       "    <tr style=\"text-align: right;\">\n",
       "      <th></th>\n",
       "      <th>power_fc</th>\n",
       "      <th>power_sc</th>\n",
       "      <th>peak_freq_fc</th>\n",
       "      <th>peak_freq_sc</th>\n",
       "      <th>cross_corr</th>\n",
       "      <th>label</th>\n",
       "    </tr>\n",
       "  </thead>\n",
       "  <tbody>\n",
       "    <tr>\n",
       "      <th>0</th>\n",
       "      <td>104.089036</td>\n",
       "      <td>86.758556</td>\n",
       "      <td>1146.88</td>\n",
       "      <td>634.88</td>\n",
       "      <td>50</td>\n",
       "      <td>0</td>\n",
       "    </tr>\n",
       "    <tr>\n",
       "      <th>1</th>\n",
       "      <td>94.278428</td>\n",
       "      <td>87.887142</td>\n",
       "      <td>307.20</td>\n",
       "      <td>389.12</td>\n",
       "      <td>46</td>\n",
       "      <td>0</td>\n",
       "    </tr>\n",
       "    <tr>\n",
       "      <th>2</th>\n",
       "      <td>67.322822</td>\n",
       "      <td>77.246988</td>\n",
       "      <td>737.28</td>\n",
       "      <td>430.08</td>\n",
       "      <td>-34</td>\n",
       "      <td>0</td>\n",
       "    </tr>\n",
       "    <tr>\n",
       "      <th>3</th>\n",
       "      <td>79.127303</td>\n",
       "      <td>91.651794</td>\n",
       "      <td>286.72</td>\n",
       "      <td>1249.28</td>\n",
       "      <td>-9</td>\n",
       "      <td>0</td>\n",
       "    </tr>\n",
       "    <tr>\n",
       "      <th>4</th>\n",
       "      <td>82.177180</td>\n",
       "      <td>92.165586</td>\n",
       "      <td>348.16</td>\n",
       "      <td>471.04</td>\n",
       "      <td>-59</td>\n",
       "      <td>0</td>\n",
       "    </tr>\n",
       "    <tr>\n",
       "      <th>...</th>\n",
       "      <td>...</td>\n",
       "      <td>...</td>\n",
       "      <td>...</td>\n",
       "      <td>...</td>\n",
       "      <td>...</td>\n",
       "      <td>...</td>\n",
       "    </tr>\n",
       "    <tr>\n",
       "      <th>299995</th>\n",
       "      <td>86.233608</td>\n",
       "      <td>73.800497</td>\n",
       "      <td>204.80</td>\n",
       "      <td>204.80</td>\n",
       "      <td>8</td>\n",
       "      <td>2</td>\n",
       "    </tr>\n",
       "    <tr>\n",
       "      <th>299996</th>\n",
       "      <td>88.318580</td>\n",
       "      <td>76.557027</td>\n",
       "      <td>204.80</td>\n",
       "      <td>204.80</td>\n",
       "      <td>9</td>\n",
       "      <td>2</td>\n",
       "    </tr>\n",
       "    <tr>\n",
       "      <th>299997</th>\n",
       "      <td>93.403762</td>\n",
       "      <td>73.387035</td>\n",
       "      <td>204.80</td>\n",
       "      <td>204.80</td>\n",
       "      <td>-29</td>\n",
       "      <td>2</td>\n",
       "    </tr>\n",
       "    <tr>\n",
       "      <th>299998</th>\n",
       "      <td>95.095813</td>\n",
       "      <td>73.342789</td>\n",
       "      <td>204.80</td>\n",
       "      <td>204.80</td>\n",
       "      <td>9</td>\n",
       "      <td>2</td>\n",
       "    </tr>\n",
       "    <tr>\n",
       "      <th>299999</th>\n",
       "      <td>98.131486</td>\n",
       "      <td>67.926979</td>\n",
       "      <td>204.80</td>\n",
       "      <td>204.80</td>\n",
       "      <td>50</td>\n",
       "      <td>2</td>\n",
       "    </tr>\n",
       "  </tbody>\n",
       "</table>\n",
       "<p>300000 rows × 6 columns</p>\n",
       "</div>"
      ],
      "text/plain": [
       "          power_fc   power_sc  peak_freq_fc  peak_freq_sc  cross_corr  label\n",
       "0       104.089036  86.758556       1146.88        634.88          50      0\n",
       "1        94.278428  87.887142        307.20        389.12          46      0\n",
       "2        67.322822  77.246988        737.28        430.08         -34      0\n",
       "3        79.127303  91.651794        286.72       1249.28          -9      0\n",
       "4        82.177180  92.165586        348.16        471.04         -59      0\n",
       "...            ...        ...           ...           ...         ...    ...\n",
       "299995   86.233608  73.800497        204.80        204.80           8      2\n",
       "299996   88.318580  76.557027        204.80        204.80           9      2\n",
       "299997   93.403762  73.387035        204.80        204.80         -29      2\n",
       "299998   95.095813  73.342789        204.80        204.80           9      2\n",
       "299999   98.131486  67.926979        204.80        204.80          50      2\n",
       "\n",
       "[300000 rows x 6 columns]"
      ]
     },
     "execution_count": 161,
     "metadata": {},
     "output_type": "execute_result"
    }
   ],
   "source": [
    "df = pd.concat([back_df, bbh_df, sglf_df], axis=0, ignore_index=True)\n",
    "df"
   ]
  },
  {
   "cell_type": "code",
   "execution_count": 162,
   "id": "8bf19611-3d8f-475f-9872-8c4899cc5043",
   "metadata": {},
   "outputs": [],
   "source": [
    "X = df[['power_fc', 'power_sc', 'peak_freq_fc', 'peak_freq_sc', 'cross_corr']]\n",
    "y = df['label']"
   ]
  },
  {
   "cell_type": "code",
   "execution_count": 164,
   "id": "3043c13e-b381-417b-b986-663f4c968214",
   "metadata": {},
   "outputs": [],
   "source": [
    "X = sm.add_constant(X)"
   ]
  },
  {
   "cell_type": "code",
   "execution_count": 165,
   "id": "f6b2286f-a823-4d80-a6b0-0586bb68bc38",
   "metadata": {},
   "outputs": [
    {
     "name": "stdout",
     "output_type": "stream",
     "text": [
      "                            OLS Regression Results                            \n",
      "==============================================================================\n",
      "Dep. Variable:                  label   R-squared:                       0.149\n",
      "Model:                            OLS   Adj. R-squared:                  0.149\n",
      "Method:                 Least Squares   F-statistic:                 1.047e+04\n",
      "Date:                Sun, 12 Jan 2025   Prob (F-statistic):               0.00\n",
      "Time:                        07:35:14   Log-Likelihood:            -3.4073e+05\n",
      "No. Observations:              300000   AIC:                         6.815e+05\n",
      "Df Residuals:                  299994   BIC:                         6.815e+05\n",
      "Df Model:                           5                                         \n",
      "Covariance Type:            nonrobust                                         \n",
      "================================================================================\n",
      "                   coef    std err          t      P>|t|      [0.025      0.975]\n",
      "--------------------------------------------------------------------------------\n",
      "const            1.6594      0.004    417.137      0.000       1.652       1.667\n",
      "power_fc      3.662e-06   7.32e-07      5.003      0.000    2.23e-06     5.1e-06\n",
      "power_sc        -0.0033   3.98e-05    -82.083      0.000      -0.003      -0.003\n",
      "peak_freq_fc    -0.0005   3.21e-06   -155.748      0.000      -0.001      -0.000\n",
      "peak_freq_sc    -0.0003   2.99e-06   -103.784      0.000      -0.000      -0.000\n",
      "cross_corr   -6.992e-05   3.78e-05     -1.847      0.065      -0.000    4.26e-06\n",
      "==============================================================================\n",
      "Omnibus:                   107247.195   Durbin-Watson:                   0.197\n",
      "Prob(Omnibus):                  0.000   Jarque-Bera (JB):          8963125.477\n",
      "Skew:                           0.816   Prob(JB):                         0.00\n",
      "Kurtosis:                      29.728   Cond. No.                     5.45e+03\n",
      "==============================================================================\n",
      "\n",
      "Notes:\n",
      "[1] Standard Errors assume that the covariance matrix of the errors is correctly specified.\n",
      "[2] The condition number is large, 5.45e+03. This might indicate that there are\n",
      "strong multicollinearity or other numerical problems.\n"
     ]
    }
   ],
   "source": [
    "ols_model = sm.OLS(y, X).fit()\n",
    "print(ols_model.summary())"
   ]
  },
  {
   "cell_type": "code",
   "execution_count": 167,
   "id": "e1e494cb-f055-4c79-b6d8-9ad888ea2ee3",
   "metadata": {},
   "outputs": [],
   "source": [
    "df.to_csv(\"../feature_engineered_segments.csv\")"
   ]
  },
  {
   "cell_type": "code",
   "execution_count": null,
   "id": "2c080860-d008-45eb-8576-97d5c5077f2c",
   "metadata": {},
   "outputs": [],
   "source": []
  }
 ],
 "metadata": {
  "kernelspec": {
   "display_name": "Python 3 (ipykernel)",
   "language": "python",
   "name": "python3"
  },
  "language_info": {
   "codemirror_mode": {
    "name": "ipython",
    "version": 3
   },
   "file_extension": ".py",
   "mimetype": "text/x-python",
   "name": "python",
   "nbconvert_exporter": "python",
   "pygments_lexer": "ipython3",
   "version": "3.11.9"
  }
 },
 "nbformat": 4,
 "nbformat_minor": 5
}
